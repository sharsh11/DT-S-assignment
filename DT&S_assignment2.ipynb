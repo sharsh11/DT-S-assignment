{
  "nbformat": 4,
  "nbformat_minor": 0,
  "metadata": {
    "colab": {
      "provenance": []
    },
    "kernelspec": {
      "name": "python3",
      "display_name": "Python 3"
    },
    "language_info": {
      "name": "python"
    }
  },
  "cells": [
    {
      "cell_type": "markdown",
      "source": [
        "# Theory"
      ],
      "metadata": {
        "id": "6mDjxDANKeZf"
      }
    },
    {
      "cell_type": "markdown",
      "source": [
        "1. What are data structures, and why are they important\n",
        "\n",
        "  -> Data structures are specialized formats for organizing, storing, and accessing collections of data. They provide efficient ways to manage information based on its characteristics and intended use.\n",
        "\n",
        "  Data structure are important because it has:-\n",
        "\n",
        "  (1) Efficient access: Data structures allow for quick access to data.\n",
        "\n",
        "  (2) Faster programs: Understanding data structures and algorithms (DSA) can help you create programs that run faster.\n",
        "\n",
        "  (3) Memory efficiency: DSA can help you create programs that use less memory.\n",
        "  Problem solving: DSA can help you find efficient ways to solve specific problems.\n",
        "  \n",
        "\n"
      ],
      "metadata": {
        "id": "rytfofLZKnQd"
      }
    },
    {
      "cell_type": "markdown",
      "source": [
        "2.   Explain the difference between mutable and immutable data types with examples\n",
        "\n",
        "  -> In programming, data types can be classified as mutable or immutable based on whether their values can be changed after creation.\n",
        "\n",
        "  Mutable Data Types\n",
        "\n",
        "  Can be modified after creation.\n",
        "\n",
        "  Changes occur in place without creating a new object.\n",
        "\n",
        "  Stored in memory with a reference that allows modifications.\n",
        "\n",
        "  Immutable Data Types\n",
        "\n",
        "  Cannot be modified after creation.\n",
        "\n",
        "  Any modification results in the creation of a new object in memory.\n",
        "\n",
        "  Stored in memory with a unique reference that cannot be altered."
      ],
      "metadata": {
        "id": "nr6rGZtPL59z"
      }
    },
    {
      "cell_type": "markdown",
      "source": [
        "3. What are the main differences between lists and tuples in Python\n",
        "\n",
        "  -> Lists:\n",
        "  \n",
        "  Mutable, meaning you can modify their elements after creation (add, remove, or change).\n",
        "\n",
        "  Defined using square brackets [].\n",
        "\n",
        "  Slightly slower than tuples due to their mutability, which requires more memory overhead.\n",
        "\n",
        "  Use when you need to modify the collection of items, such as adding or removing elements.\n",
        "\n",
        "  Have more built-in methods, such as append(), insert(), remove(), and pop(), which allow for modification.\n",
        "\n",
        "  Tuples:\n",
        "\n",
        "  Immutable, meaning you cannot modify them once created.\n",
        "\n",
        "  Defined using parentheses ()\n",
        "\n",
        "  Faster and more memory efficient than lists because they are immutable.\n",
        "\n",
        "  Use when you need to store a fixed collection of items that should not be changed, such as coordinates or database records.\n",
        "\n",
        "  Have fewer built-in methods, primarily focusing on accessing elements and performing operations that don't modify the tuple."
      ],
      "metadata": {
        "id": "HqHrXC8kO8qE"
      }
    },
    {
      "cell_type": "markdown",
      "source": [
        "4. Describe how dictionaries store data\n",
        "\n",
        "  -> A dictionary stores data as a collection of \"key-value pairs\", where each unique key is associated with a specific value, allowing for quick retrieval of data using the key as a reference"
      ],
      "metadata": {
        "id": "gpDLhAwxLX5r"
      }
    },
    {
      "cell_type": "markdown",
      "source": [
        "5. Why might you use a set instead of a list in Python?\n",
        "\n",
        "  -> A set in Python is an unordered collection of unique elements, while a list is an ordered collection that can contain duplicate elements."
      ],
      "metadata": {
        "id": "rSl3RJ5WMCFc"
      }
    },
    {
      "cell_type": "markdown",
      "source": [
        "6. What is a string in Python, and how is it different from a list?\n",
        "\n",
        "  -> A string is a sequence of characters, while a list is a sequence of items that can be of any type. Strings are immutable, meaning their values cannot be changed after they are created, while lists are mutable and can be modified."
      ],
      "metadata": {
        "id": "yZYfGJBduTbS"
      }
    },
    {
      "cell_type": "markdown",
      "source": [
        "7. How do tuples ensure data integrity in Python?\n",
        "\n",
        "  -> Tuples ensure data integrity in Python through their immutability. This means that once a tuple is created, its elements cannot be modified, added, or removed."
      ],
      "metadata": {
        "id": "Z0f4QrtLvjwm"
      }
    },
    {
      "cell_type": "markdown",
      "source": [
        "8. What is a hash table, and how does it relate to dictionaries in Python?\n",
        "\n",
        "  -> A hash table is a data structure that maps keys to values using a hash function. The hash function takes the key as input and produces an index into an array where the corresponding value is stored. This allows for efficient retrieval of values based on their keys."
      ],
      "metadata": {
        "id": "KZLveFMQv59h"
      }
    },
    {
      "cell_type": "markdown",
      "source": [
        "9. Can lists contain different data types in Python?\n",
        "\n",
        "  -> Yes, lists in Python can contain different data types.\n",
        "  \n",
        "  Example:\n",
        "\n",
        "  my_list = [1, \"hello\", 3.14, True]\n",
        "  \n",
        "  print(my_list)"
      ],
      "metadata": {
        "id": "HqddDytmwOdw"
      }
    },
    {
      "cell_type": "markdown",
      "source": [
        "10. Explain why strings are immutable in Python\n",
        "\n",
        "  -> Strings in Python are “immutable” which means they can not be changed after they are created. Some other immutable data types are integers, float, boolean, etc."
      ],
      "metadata": {
        "id": "ysH06nPNzuNL"
      }
    },
    {
      "cell_type": "markdown",
      "source": [
        "11. What advantages do dictionaries offer over lists for certain tasks?\n",
        "\n",
        "  -> Dictionaries have several advantages over lists for tasks that require frequent lookups or searches. Dictionaries are faster for finding a specific value, and they can store complex data structures."
      ],
      "metadata": {
        "id": "ErPhjGiA1zUM"
      }
    },
    {
      "cell_type": "markdown",
      "source": [
        "12. Describe a scenario where using a tuple would be preferable over a list.\n",
        "\n",
        "  -> A scenario where a tuple would be preferable over a list is when you need to store a fixed set of data that should not be modified throughout your program, like representing a coordinate pair (x, y), an RGB color value (red, green, blue), or a database record where the order of elements is important but the values should remain constant; in these cases, using a tuple ensures data integrity by preventing accidental changes, which can be beneficial for code reliability."
      ],
      "metadata": {
        "id": "-Szk80uRiivL"
      }
    },
    {
      "cell_type": "markdown",
      "source": [
        "13. How do sets handle duplicate values in Python?\n",
        "\n",
        "  -> Sets in Python are designed to store only unique elements. When an attempt is made to add a duplicate value to a set, Python automatically discards the duplicate, ensuring that the set contains only distinct elements. This behavior makes sets useful for tasks like removing duplicates from a list or checking for the presence of unique items."
      ],
      "metadata": {
        "id": "ZuPtPPCBjEjq"
      }
    },
    {
      "cell_type": "markdown",
      "source": [
        "14. How does the “in” keyword work differently for lists and dictionaries?\n",
        "\n",
        "  => When using the \"in\" keyword, it checks if a value exists within a list by comparing it to each element in the list, while in a dictionary, it checks if a value exists as a key, meaning it only looks for the key and not the associated value; essentially, \"in\" only checks for key membership in a dictionary, not value membership."
      ],
      "metadata": {
        "id": "E3q0NDDejXrC"
      }
    },
    {
      "cell_type": "markdown",
      "source": [
        "15. Can you modify the elements of a tuple? Explain why or why not.\n",
        "\n",
        "  -> No, you cannot modify the elements of a tuple in Python because tuples are immutable. This means that once a tuple is created, its elements cannot be changed, added, or removed."
      ],
      "metadata": {
        "id": "xei2_ndtjlYq"
      }
    },
    {
      "cell_type": "markdown",
      "source": [
        "16. What is a nested dictionary, and give an example of its use case?\n",
        "\n",
        "  -> A nested dictionary is a dictionary that is stored within another dictionary. It's a way to store data in multiple layers, which can be useful for managing complex data."
      ],
      "metadata": {
        "id": "fAAarKVzj8qv"
      }
    },
    {
      "cell_type": "markdown",
      "source": [
        "17. Describe the time complexity of accessing elements in a dictionary?\n",
        "\n",
        "  -> In Python, the time complexity of accessing an element in a dictionary is \\(O(1)\\) on average. This means that accessing an element in a dictionary is very fast."
      ],
      "metadata": {
        "id": "lBuIscN_ktOg"
      }
    },
    {
      "cell_type": "markdown",
      "source": [
        "18.  In what situations are lists preferred over dictionaries?\n",
        "\n",
        "  -> Lists are preferred over dictionaries when the order of elements is crucial, when you need to frequently add or remove elements from the beginning or end of a collection, or when you primarily need to access elements based on their position (index) rather than a unique key; essentially, when the data is best represented as a sequence where order matters significantly."
      ],
      "metadata": {
        "id": "GZ5LPLZVlAdq"
      }
    },
    {
      "cell_type": "markdown",
      "source": [
        "19. Why are dictionaries considered unordered, and how does that affect data retrieval?\n",
        "\n",
        "  -> Dictionaries are considered unordered because they do not maintain a specific order of their key-value pairs when storing data, meaning the sequence in which items were added is not preserved; this prioritizes fast access to data using keys rather than accessing elements based on their position in a sequence, which is how ordered data structures like lists function, and therefore, data retrieval in a dictionary is done directly by specifying the key, not by iterating through a sequence to find the desired value."
      ],
      "metadata": {
        "id": "R4SzoBholPd_"
      }
    },
    {
      "cell_type": "markdown",
      "source": [
        "20.  Explain the difference between a list and a dictionary in terms of data retrieval.\n",
        "\n",
        "  -> In Python, the difference between data retrieval in a list and a dictionary is that lists use indices to access elements, while dictionaries use keys.\n",
        "\n",
        "  Explanation\n",
        "\n",
        "  Lists\n",
        "\n",
        "  1) Lists are ordered collections of items.\n",
        "\n",
        "  2) Elements in a list are accessed using indices, which are integers that start at zero.\n",
        "  \n",
        "  3) Lists are good for ordered operations like sorting.\n",
        "\n",
        "  4) Lists can contain duplicate items.\n",
        "\n",
        "  Dictionaries\n",
        "  \n",
        "  1) Dictionaries are unordered collections of key-value pairs.\n",
        "\n",
        "  2) Elements in a dictionary are accessed using keys, which can be of any data type.\n",
        "\n",
        "  3) Dictionaries are good for lookup operations.\n",
        "\n",
        "  4) Dictionaries do not allow duplicate keys."
      ],
      "metadata": {
        "id": "i-mycz2zlevE"
      }
    },
    {
      "cell_type": "markdown",
      "source": [
        "# Practicals Questions"
      ],
      "metadata": {
        "id": "XD9czGTTmTCh"
      }
    },
    {
      "cell_type": "markdown",
      "source": [
        "1. Write a code to create a string with your name and print it.\n"
      ],
      "metadata": {
        "id": "ZH8WWkV7mZ7D"
      }
    },
    {
      "cell_type": "code",
      "source": [
        "name = \"Harsh\"\n",
        "print(name)"
      ],
      "metadata": {
        "colab": {
          "base_uri": "https://localhost:8080/"
        },
        "id": "IVcWaLNNyJYg",
        "outputId": "9d93cd12-ee93-4acb-f279-645126c9a2a7"
      },
      "execution_count": 1,
      "outputs": [
        {
          "output_type": "stream",
          "name": "stdout",
          "text": [
            "Harsh\n"
          ]
        }
      ]
    },
    {
      "cell_type": "markdown",
      "source": [
        "2. Write a code to find the length of the string \"Hello World\"."
      ],
      "metadata": {
        "id": "O0BOxY1SytQ1"
      }
    },
    {
      "cell_type": "code",
      "source": [
        "len(\"Hello World\")"
      ],
      "metadata": {
        "colab": {
          "base_uri": "https://localhost:8080/"
        },
        "id": "uozRWuVPyzSd",
        "outputId": "8595cf35-229a-4b6c-b225-30f456a948f7"
      },
      "execution_count": 2,
      "outputs": [
        {
          "output_type": "execute_result",
          "data": {
            "text/plain": [
              "11"
            ]
          },
          "metadata": {},
          "execution_count": 2
        }
      ]
    },
    {
      "cell_type": "markdown",
      "source": [
        "3. Write a code to slice the first 3 characters from the string \"Python Programming\"."
      ],
      "metadata": {
        "id": "RJGpGcATzSoD"
      }
    },
    {
      "cell_type": "code",
      "source": [
        "s = \"Hello, Python!\"\n",
        "\n",
        "s2 = s[0:3]\n",
        "\n",
        "print(s2)"
      ],
      "metadata": {
        "colab": {
          "base_uri": "https://localhost:8080/"
        },
        "id": "6zCtHUCPz6AX",
        "outputId": "e4182280-fd20-4a32-b919-b15a7d51dc29"
      },
      "execution_count": 3,
      "outputs": [
        {
          "output_type": "stream",
          "name": "stdout",
          "text": [
            "Hel\n"
          ]
        }
      ]
    },
    {
      "cell_type": "markdown",
      "source": [
        "4. Write a code to convert the string \"hello\" to uppercase"
      ],
      "metadata": {
        "id": "d2Aa9FAE0AJF"
      }
    },
    {
      "cell_type": "code",
      "source": [
        "s=\"hello\"\n",
        "print(s.upper())"
      ],
      "metadata": {
        "colab": {
          "base_uri": "https://localhost:8080/"
        },
        "id": "zursppfCwYWa",
        "outputId": "31ef1fc6-63f0-41b9-db80-230d41ad2d26"
      },
      "execution_count": 1,
      "outputs": [
        {
          "output_type": "stream",
          "name": "stdout",
          "text": [
            "HELLO\n"
          ]
        }
      ]
    },
    {
      "cell_type": "markdown",
      "source": [
        "5. Write a code to replace the word \"apple\" with \"orange\" in the string \"I like apple\"."
      ],
      "metadata": {
        "id": "n6Ss20eRyH60"
      }
    },
    {
      "cell_type": "code",
      "source": [
        "s=\"I like apple\"\n",
        "s.replace(\"apple\",\"orange\")"
      ],
      "metadata": {
        "colab": {
          "base_uri": "https://localhost:8080/",
          "height": 36
        },
        "id": "zHErnu3uyOfj",
        "outputId": "d30508de-48e3-44e5-a4f8-7ff27128a668"
      },
      "execution_count": 4,
      "outputs": [
        {
          "output_type": "execute_result",
          "data": {
            "text/plain": [
              "'I like orange'"
            ],
            "application/vnd.google.colaboratory.intrinsic+json": {
              "type": "string"
            }
          },
          "metadata": {},
          "execution_count": 4
        }
      ]
    },
    {
      "cell_type": "markdown",
      "source": [
        "6. Write a code to create a list with numbers 1 to 5 and print it"
      ],
      "metadata": {
        "id": "z6cInMbzycTw"
      }
    },
    {
      "cell_type": "code",
      "source": [
        "s=[1,2,3,4,5]\n",
        "print(s)"
      ],
      "metadata": {
        "colab": {
          "base_uri": "https://localhost:8080/"
        },
        "id": "-zpG0n7EyrID",
        "outputId": "ebe6231f-7f66-456d-dc0d-97dafdb2dc2e"
      },
      "execution_count": 5,
      "outputs": [
        {
          "output_type": "stream",
          "name": "stdout",
          "text": [
            "[1, 2, 3, 4, 5]\n"
          ]
        }
      ]
    },
    {
      "cell_type": "markdown",
      "source": [
        "7. Write a code to append the number 10 to the list [1, 2, 3, 4]"
      ],
      "metadata": {
        "id": "2UX5_hKJycHz"
      }
    },
    {
      "cell_type": "code",
      "source": [
        "list=[1,2,3,4]\n",
        "list.append(10)\n",
        "print(list)"
      ],
      "metadata": {
        "colab": {
          "base_uri": "https://localhost:8080/"
        },
        "id": "EFaKF80bzMRp",
        "outputId": "5f3c3fb7-ca25-4a30-a28d-feacfae0613b"
      },
      "execution_count": 7,
      "outputs": [
        {
          "output_type": "stream",
          "name": "stdout",
          "text": [
            "[1, 2, 3, 4, 10]\n"
          ]
        }
      ]
    },
    {
      "cell_type": "markdown",
      "source": [
        "8. Write a code to remove the number 3 from the list [1, 2, 3, 4, 5].\n"
      ],
      "metadata": {
        "id": "6HvZQXB5za22"
      }
    },
    {
      "cell_type": "code",
      "source": [
        "s=[1,2,3,4,5]\n",
        "if 3 in s:\n",
        "  s.remove(3)\n",
        "print(s)"
      ],
      "metadata": {
        "colab": {
          "base_uri": "https://localhost:8080/"
        },
        "id": "N3prmCQMzhf_",
        "outputId": "c664d85d-667e-44a0-9cb1-d434ee60fb05"
      },
      "execution_count": 8,
      "outputs": [
        {
          "output_type": "stream",
          "name": "stdout",
          "text": [
            "[1, 2, 4, 5]\n"
          ]
        }
      ]
    },
    {
      "cell_type": "markdown",
      "source": [
        "9. Write a code to access the second element in the list ['a', 'b', 'c', 'd']."
      ],
      "metadata": {
        "id": "7XtWKQN4zv0-"
      }
    },
    {
      "cell_type": "code",
      "source": [
        "s=['a','b','c','d']\n",
        "print(s[1])"
      ],
      "metadata": {
        "colab": {
          "base_uri": "https://localhost:8080/"
        },
        "id": "jp87EjN9z1_z",
        "outputId": "942adc78-750a-4074-ee26-fdd0949c4f50"
      },
      "execution_count": 11,
      "outputs": [
        {
          "output_type": "stream",
          "name": "stdout",
          "text": [
            "b\n"
          ]
        }
      ]
    },
    {
      "cell_type": "markdown",
      "source": [
        "10. Write a code to reverse the list [10, 20, 30, 40, 50]."
      ],
      "metadata": {
        "id": "91BBvvKd1Od_"
      }
    },
    {
      "cell_type": "code",
      "source": [
        "list = [10, 20, 30, 40, 50]\n",
        "list.reverse()\n",
        "print(list)\n"
      ],
      "metadata": {
        "colab": {
          "base_uri": "https://localhost:8080/"
        },
        "id": "dO4ErPE_1N99",
        "outputId": "001600d3-6c67-42e9-d797-3a8cc5c2987b"
      },
      "execution_count": 27,
      "outputs": [
        {
          "output_type": "stream",
          "name": "stdout",
          "text": [
            "[50, 40, 30, 20, 10]\n"
          ]
        }
      ]
    },
    {
      "cell_type": "markdown",
      "source": [
        "11. Write a code to create a tuple with the elements 100, 200, 300 and print it."
      ],
      "metadata": {
        "id": "0l1JXUHUIpfg"
      }
    },
    {
      "cell_type": "code",
      "source": [
        "s=(100,200,300)\n",
        "print(s)\n",
        "print(type(s))"
      ],
      "metadata": {
        "colab": {
          "base_uri": "https://localhost:8080/"
        },
        "id": "nfIUJsekIvH2",
        "outputId": "fab25c6a-99e7-423b-fcf8-8e516ba0b070"
      },
      "execution_count": 28,
      "outputs": [
        {
          "output_type": "stream",
          "name": "stdout",
          "text": [
            "(100, 200, 300)\n",
            "<class 'tuple'>\n"
          ]
        }
      ]
    },
    {
      "cell_type": "markdown",
      "source": [
        "12. Write a code to access the second-to-last element of the tuple ('red', 'green', 'blue', 'yellow')."
      ],
      "metadata": {
        "id": "SwDnaqlwJCfV"
      }
    },
    {
      "cell_type": "code",
      "source": [
        "colors = ('red', 'green', 'blue', 'yellow')\n",
        "second_to_last_color = colors[-2]\n",
        "\n",
        "print(second_to_last_color)"
      ],
      "metadata": {
        "colab": {
          "base_uri": "https://localhost:8080/"
        },
        "id": "kPujTjjSJJMy",
        "outputId": "4227cf08-8359-40f5-b3c2-3ed9e7603c92"
      },
      "execution_count": 31,
      "outputs": [
        {
          "output_type": "stream",
          "name": "stdout",
          "text": [
            "blue\n"
          ]
        }
      ]
    },
    {
      "cell_type": "markdown",
      "source": [
        "13. Write a code to find the minimum number in the tuple (10, 20, 5, 15)."
      ],
      "metadata": {
        "id": "GOIl6hFVJ51a"
      }
    },
    {
      "cell_type": "code",
      "source": [
        "s=(10, 20, 5, 15)\n",
        "print(min(s))"
      ],
      "metadata": {
        "colab": {
          "base_uri": "https://localhost:8080/"
        },
        "id": "VmcKOTpvKBL2",
        "outputId": "45201d82-7d36-46ca-d544-288f0ff12510"
      },
      "execution_count": 33,
      "outputs": [
        {
          "output_type": "stream",
          "name": "stdout",
          "text": [
            "5\n"
          ]
        }
      ]
    },
    {
      "cell_type": "markdown",
      "source": [
        "14.  Write a code to find the index of the element \"cat\" in the tuple ('dog', 'cat', 'rabbit')."
      ],
      "metadata": {
        "id": "ATmcER0VKgMU"
      }
    },
    {
      "cell_type": "code",
      "source": [
        "s=('dog', 'cat', 'rabbit')\n",
        "index = s.index(\"cat\")\n",
        "print(index)"
      ],
      "metadata": {
        "colab": {
          "base_uri": "https://localhost:8080/"
        },
        "id": "pjxjt4rTKnaL",
        "outputId": "fe1c13d9-db55-44cf-e526-6ad499e7b1ae"
      },
      "execution_count": 34,
      "outputs": [
        {
          "output_type": "stream",
          "name": "stdout",
          "text": [
            "1\n"
          ]
        }
      ]
    },
    {
      "cell_type": "markdown",
      "source": [
        "15. Write a code to create a tuple containing three different fruits and check if \"kiwi\" is in it."
      ],
      "metadata": {
        "id": "tYiy-0R5Kz36"
      }
    },
    {
      "cell_type": "code",
      "source": [
        "fruits = (\"apple\", \"banana\", \"kiwi\")\n",
        "if \"kiwi\" in fruits:\n",
        "    print(\"kiwi is in the tuple\")\n",
        "else:\n",
        "    print(\"kiwi is not in the tuple\")"
      ],
      "metadata": {
        "colab": {
          "base_uri": "https://localhost:8080/"
        },
        "id": "x1b5MOoGK8zb",
        "outputId": "37e2f9a9-65ee-4e31-9b3d-92acae763407"
      },
      "execution_count": 35,
      "outputs": [
        {
          "output_type": "stream",
          "name": "stdout",
          "text": [
            "kiwi is in the tuple\n"
          ]
        }
      ]
    },
    {
      "cell_type": "markdown",
      "source": [
        "16. Write a code to create a set with the elements 'a', 'b', 'c' and print it"
      ],
      "metadata": {
        "id": "54N93EGQLYt7"
      }
    },
    {
      "cell_type": "code",
      "source": [
        "s={ 'a', 'b', 'c'}\n",
        "print(s)\n",
        "print(type(s))"
      ],
      "metadata": {
        "colab": {
          "base_uri": "https://localhost:8080/"
        },
        "id": "Q8eUG9zeLdUT",
        "outputId": "a8c2c633-4f37-4890-b233-c3dceb2be416"
      },
      "execution_count": 36,
      "outputs": [
        {
          "output_type": "stream",
          "name": "stdout",
          "text": [
            "{'a', 'c', 'b'}\n",
            "<class 'set'>\n"
          ]
        }
      ]
    },
    {
      "cell_type": "markdown",
      "source": [
        "17. Write a code to clear all elements from the set {1, 2, 3, 4, 5}.\n",
        "\n"
      ],
      "metadata": {
        "id": "A85IurIOLsMf"
      }
    },
    {
      "cell_type": "code",
      "source": [
        "my_set = {1, 2, 3, 4, 5}\n",
        "my_set.clear()\n",
        "\n",
        "print(my_set)"
      ],
      "metadata": {
        "colab": {
          "base_uri": "https://localhost:8080/"
        },
        "id": "BaUvqgPoLxgC",
        "outputId": "028a3649-0109-499c-e95a-e0c0acbdd9db"
      },
      "execution_count": 39,
      "outputs": [
        {
          "output_type": "stream",
          "name": "stdout",
          "text": [
            "set()\n"
          ]
        }
      ]
    },
    {
      "cell_type": "markdown",
      "source": [
        "18.  Write a code to remove the element 4 from the set {1, 2, 3, 4}."
      ],
      "metadata": {
        "id": "qhG9SkyvMooG"
      }
    },
    {
      "cell_type": "code",
      "source": [
        "s={1, 2, 3, 4}\n",
        "if 4 in s:\n",
        "  s.remove(4)\n",
        "  print(s)"
      ],
      "metadata": {
        "colab": {
          "base_uri": "https://localhost:8080/"
        },
        "id": "NQUf-qKJMwB4",
        "outputId": "384b2734-a265-43b2-cb1c-f4ba644929a7"
      },
      "execution_count": 40,
      "outputs": [
        {
          "output_type": "stream",
          "name": "stdout",
          "text": [
            "{1, 2, 3}\n"
          ]
        }
      ]
    },
    {
      "cell_type": "markdown",
      "source": [
        "19.  Write a code to find the union of two sets {1, 2, 3} and {3, 4, 5}.\n"
      ],
      "metadata": {
        "id": "ogP8DmwYNPTd"
      }
    },
    {
      "cell_type": "code",
      "source": [
        "A={1, 2, 3}\n",
        "B={3, 4, 5}\n",
        "print(\"A U B:\", A.union(B))"
      ],
      "metadata": {
        "colab": {
          "base_uri": "https://localhost:8080/"
        },
        "id": "9k4aZNJ6NWKU",
        "outputId": "e38c60bd-b505-4467-aab0-273f52bf1dea"
      },
      "execution_count": 41,
      "outputs": [
        {
          "output_type": "stream",
          "name": "stdout",
          "text": [
            "A U B: {1, 2, 3, 4, 5}\n"
          ]
        }
      ]
    },
    {
      "cell_type": "markdown",
      "source": [
        "20. Write a code to find the intersection of two sets {1, 2, 3} and {2, 3, 4}."
      ],
      "metadata": {
        "id": "YoMbJ7AfN-GK"
      }
    },
    {
      "cell_type": "code",
      "source": [
        "A={1, 2, 3}\n",
        "B={2, 3, 4}\n",
        "print(\"A U B:\", A.intersection(B))"
      ],
      "metadata": {
        "colab": {
          "base_uri": "https://localhost:8080/"
        },
        "id": "0MfUyq7-OEhb",
        "outputId": "3b9dc064-cc3b-49b4-cdbe-3ba0954be43d"
      },
      "execution_count": 42,
      "outputs": [
        {
          "output_type": "stream",
          "name": "stdout",
          "text": [
            "A U B: {2, 3}\n"
          ]
        }
      ]
    },
    {
      "cell_type": "markdown",
      "source": [
        "21.  Write a code to create a dictionary with the keys \"name\", \"age\", and \"city\", and print it"
      ],
      "metadata": {
        "id": "Xd3BXSoBOVlF"
      }
    },
    {
      "cell_type": "code",
      "source": [
        "person_info = {\"name\": \"Harsh\", \"age\": 30, \"city\": \"Ghaziabad\"}\n",
        "print(person_info)"
      ],
      "metadata": {
        "colab": {
          "base_uri": "https://localhost:8080/"
        },
        "id": "LzOqwHzgOfDC",
        "outputId": "9d20f7e3-c023-43f1-8fad-8adf7c5fe951"
      },
      "execution_count": 46,
      "outputs": [
        {
          "output_type": "stream",
          "name": "stdout",
          "text": [
            "{'name': 'Harsh', 'age': 30, 'city': 'Ghaziabad'}\n"
          ]
        }
      ]
    },
    {
      "cell_type": "markdown",
      "source": [
        "22.  Write a code to add a new key-value pair \"country\": \"USA\" to the dictionary {'name': 'John', 'age': 25}."
      ],
      "metadata": {
        "id": "EmwH9zhRPDDD"
      }
    },
    {
      "cell_type": "code",
      "source": [
        "person_info = {'name': 'John', 'age': 25}\n",
        "person_info['country'] = \"USA\"\n",
        "\n",
        "print(person_info)"
      ],
      "metadata": {
        "colab": {
          "base_uri": "https://localhost:8080/"
        },
        "id": "ItfSqLZFPY6e",
        "outputId": "df299a55-bcdd-4dee-be5a-2c05bb882301"
      },
      "execution_count": 47,
      "outputs": [
        {
          "output_type": "stream",
          "name": "stdout",
          "text": [
            "{'name': 'John', 'age': 25, 'country': 'USA'}\n"
          ]
        }
      ]
    },
    {
      "cell_type": "markdown",
      "source": [
        "23.  Write a code to access the value associated with the key \"name\" in the dictionary {'name': 'Alice', 'age': 30}."
      ],
      "metadata": {
        "id": "Q7DlD7zhPeue"
      }
    },
    {
      "cell_type": "code",
      "source": [
        "my_dict = {'name': 'Alice', 'age': 30}\n",
        "name = my_dict[\"name\"]\n",
        "print(name)"
      ],
      "metadata": {
        "colab": {
          "base_uri": "https://localhost:8080/"
        },
        "id": "liw7w9_zPmM0",
        "outputId": "ba64ac19-2936-47e8-93ee-908d2b0be2e4"
      },
      "execution_count": 48,
      "outputs": [
        {
          "output_type": "stream",
          "name": "stdout",
          "text": [
            "Alice\n"
          ]
        }
      ]
    },
    {
      "cell_type": "markdown",
      "source": [
        "24. Write a code to remove the key \"age\" from the dictionary {'name': 'Bob', 'age': 22, 'city': 'New York'}."
      ],
      "metadata": {
        "id": "TsUPBJI8Pzhv"
      }
    },
    {
      "cell_type": "code",
      "source": [
        "my_dict = {'name': 'Bob', 'age': 22, 'city': 'New York'}\n",
        "del my_dict['age']\n",
        "print(my_dict)"
      ],
      "metadata": {
        "colab": {
          "base_uri": "https://localhost:8080/"
        },
        "id": "fw7CRT_-QKjI",
        "outputId": "b83fab84-df36-425a-c61f-16080cbd9734"
      },
      "execution_count": 49,
      "outputs": [
        {
          "output_type": "stream",
          "name": "stdout",
          "text": [
            "{'name': 'Bob', 'city': 'New York'}\n"
          ]
        }
      ]
    },
    {
      "cell_type": "markdown",
      "source": [
        "25. . Write a code to check if the key \"city\" exists in the dictionary {'name': 'Alice', 'city': 'Paris'}."
      ],
      "metadata": {
        "id": "_z0KeaYbQRjc"
      }
    },
    {
      "cell_type": "code",
      "source": [
        "my_dict = {'name': 'Bob', 'city': 'New York'}\n",
        "if 'city' in my_dict:\n",
        "    print(\"The key 'city' exists in the dictionary.\")\n"
      ],
      "metadata": {
        "colab": {
          "base_uri": "https://localhost:8080/"
        },
        "id": "S8I0RBuVQXxQ",
        "outputId": "eed59a9e-e1e8-4df9-9857-d82118c0dd43"
      },
      "execution_count": 50,
      "outputs": [
        {
          "output_type": "stream",
          "name": "stdout",
          "text": [
            "The key 'city' exists in the dictionary.\n"
          ]
        }
      ]
    },
    {
      "cell_type": "markdown",
      "source": [
        "26.  Write a code to create a list, a tuple, and a dictionary, and print them all."
      ],
      "metadata": {
        "id": "a4EPxOVmQxTZ"
      }
    },
    {
      "cell_type": "code",
      "source": [
        "my_list = [\"apple\", \"banana\", \"orange\"]\n",
        "my_tuple = (\"mango\", \"grape\", \"kiwi\")\n",
        "my_dict = {\"fruit\": \"pineapple\", \"color\": \"yellow\"}\n",
        "\n",
        "print(\"List:\", my_list)\n",
        "print(\"Tuple:\", my_tuple)\n",
        "print(\"Dictionary:\", my_dict)"
      ],
      "metadata": {
        "colab": {
          "base_uri": "https://localhost:8080/"
        },
        "id": "LbSZu0j5RA03",
        "outputId": "ab866f39-3c42-494e-9a9a-8f259eb1fb41"
      },
      "execution_count": 51,
      "outputs": [
        {
          "output_type": "stream",
          "name": "stdout",
          "text": [
            "List: ['apple', 'banana', 'orange']\n",
            "Tuple: ('mango', 'grape', 'kiwi')\n",
            "Dictionary: {'fruit': 'pineapple', 'color': 'yellow'}\n"
          ]
        }
      ]
    },
    {
      "cell_type": "markdown",
      "source": [
        "27. Write a code to create a list of 5 random numbers between 1 and 100, sort it in ascending order, and print the result.(replaced)\n",
        "\n"
      ],
      "metadata": {
        "id": "eJh4QbuiRDCS"
      }
    },
    {
      "cell_type": "code",
      "source": [
        "import random\n",
        "\n",
        "random_list = [random.randint(1, 100) for _ in range(5)]\n",
        "\n",
        "random_list.sort()\n",
        "\n",
        "print(\"Sorted random numbers:\", random_list)"
      ],
      "metadata": {
        "colab": {
          "base_uri": "https://localhost:8080/"
        },
        "id": "26HlTAcfRe5y",
        "outputId": "a9f4e72c-3e55-4c9f-e91a-62cde6803004"
      },
      "execution_count": 52,
      "outputs": [
        {
          "output_type": "stream",
          "name": "stdout",
          "text": [
            "Sorted random numbers: [12, 65, 66, 73, 85]\n"
          ]
        }
      ]
    },
    {
      "cell_type": "markdown",
      "source": [
        "28. Write a code to create a list with strings and print the element at the third index."
      ],
      "metadata": {
        "id": "yf09G4xGSEOs"
      }
    },
    {
      "cell_type": "code",
      "source": [
        "my_list = [\"apple\", \"banana\", \"orange\", \"mango\"]\n",
        "print(my_list[2])"
      ],
      "metadata": {
        "colab": {
          "base_uri": "https://localhost:8080/"
        },
        "id": "FL26m_ALVffI",
        "outputId": "24e14544-ea81-46e9-f05a-da57224ba7fc"
      },
      "execution_count": 53,
      "outputs": [
        {
          "output_type": "stream",
          "name": "stdout",
          "text": [
            "orange\n"
          ]
        }
      ]
    },
    {
      "cell_type": "markdown",
      "source": [
        "29.  Write a code to combine two dictionaries into one and print the result."
      ],
      "metadata": {
        "id": "85dSqRfUVhZa"
      }
    },
    {
      "cell_type": "code",
      "source": [
        "d1 = {'x': 1, 'y': 2}\n",
        "d2 = {'y': 3, 'z': 4}\n",
        "\n",
        "d1.update(d2)\n",
        "print(\"d1 = \",d1)"
      ],
      "metadata": {
        "colab": {
          "base_uri": "https://localhost:8080/"
        },
        "id": "3Lo4gDsbVx1V",
        "outputId": "5adca196-0366-42da-b189-eea6b048534e"
      },
      "execution_count": 55,
      "outputs": [
        {
          "output_type": "stream",
          "name": "stdout",
          "text": [
            "d1 =  {'x': 1, 'y': 3, 'z': 4}\n"
          ]
        }
      ]
    },
    {
      "cell_type": "markdown",
      "source": [
        "30. Write a code to convert a list of strings into a set."
      ],
      "metadata": {
        "id": "ULqe9PcrVzj1"
      }
    },
    {
      "cell_type": "code",
      "source": [
        "list_of_strings = [\"apple\", \"banana\", \"cherry\", \"apple\"]\n",
        "set_of_strings = set(list_of_strings)\n",
        "print(\"set_of_strings = \", set_of_strings)"
      ],
      "metadata": {
        "colab": {
          "base_uri": "https://localhost:8080/"
        },
        "id": "ZaJretZoWLxS",
        "outputId": "d5ecd5e3-2a86-45e8-fb60-c005f72970fa"
      },
      "execution_count": 58,
      "outputs": [
        {
          "output_type": "stream",
          "name": "stdout",
          "text": [
            "set_of_strings =  {'banana', 'cherry', 'apple'}\n"
          ]
        }
      ]
    }
  ]
}